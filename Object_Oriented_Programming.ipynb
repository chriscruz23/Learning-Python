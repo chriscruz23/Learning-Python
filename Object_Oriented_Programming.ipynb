{
 "cells": [
  {
   "cell_type": "markdown",
   "metadata": {},
   "source": [
    "## **Object Oriented Programming Concepts**\n",
    "Objective: Utilizing OOP concepts, create a CarCollectionManager in order to keep track of all of the vehicles in your collection."
   ]
  },
  {
   "cell_type": "markdown",
   "metadata": {},
   "source": [
    "### **Rough Structure**\n",
    "\n",
    "*CarCollectionManager*\n",
    "\n",
    "+ `Collection -> list[Vehicles]`"
   ]
  }
 ],
 "metadata": {
  "kernelspec": {
   "display_name": "python3.10",
   "language": "python",
   "name": "python3"
  },
  "language_info": {
   "name": "python",
   "version": "3.10.12"
  },
  "orig_nbformat": 4
 },
 "nbformat": 4,
 "nbformat_minor": 2
}
