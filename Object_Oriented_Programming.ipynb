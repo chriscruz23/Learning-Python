{
 "cells": [
  {
   "cell_type": "markdown",
   "metadata": {},
   "source": [
    "## **Object Oriented Programming Concepts**\n",
    "Objective: Utilizing OOP concepts, create an Inventory class to manage all of the varying items and weapons a video game character may have"
   ]
  },
  {
   "cell_type": "code",
   "execution_count": 38,
   "metadata": {},
   "outputs": [],
   "source": [
    "from abc import ABC, abstractmethod\n",
    "from enum import Enum, auto"
   ]
  },
  {
   "cell_type": "code",
   "execution_count": null,
   "metadata": {},
   "outputs": [],
   "source": [
    "class Item(ABC):\n",
    "    def __init__(self, name: str, description: str, weight=10) -> None:\n",
    "        self.name = name\n",
    "        self.description = description\n",
    "        self.weight = weight\n",
    "        # self.item_type = item_type\n",
    "\n",
    "    @property\n",
    "    def name(self, name: str) -> str:\n",
    "        return self._name\n",
    "\n",
    "    @name.setter\n",
    "    def name(self, name: str) -> None:\n",
    "        if len(name) < 1:\n",
    "            raise ValueError(\"Name cannot be left empty!\")\n",
    "        self._name = name\n",
    "\n",
    "    @property\n",
    "    def description(self, description: str) -> str:\n",
    "        return self._description\n",
    "\n",
    "    @description.setter\n",
    "    def description(self, description: str) -> None:\n",
    "        if len(description) < 1:\n",
    "            raise ValueError(\"Description cannot be left empty!\")\n",
    "        self._description = description\n",
    "\n",
    "    @property\n",
    "    def weight(self, weight: int) -> str:\n",
    "        return self._weight\n",
    "\n",
    "    @weight.setter\n",
    "    def weight(self, weight: int) -> None:\n",
    "        if not isinstance(weight, int):\n",
    "            raise TypeError(\"Weight must be a whole number!\")\n",
    "        self._weight = weight\n",
    "\n",
    "    @abstractmethod\n",
    "    def __str__(self) -> str:\n",
    "        pass\n",
    "    \n",
    "    @abstractmethod\n",
    "    def __repr__(self) -> str:\n",
    "        pass"
   ]
  },
  {
   "cell_type": "code",
   "execution_count": 37,
   "metadata": {},
   "outputs": [
    {
     "ename": "TypeError",
     "evalue": "Can't instantiate abstract class Item with abstract methods __repr__, __str__",
     "output_type": "error",
     "traceback": [
      "\u001b[1;31m---------------------------------------------------------------------------\u001b[0m",
      "\u001b[1;31mTypeError\u001b[0m                                 Traceback (most recent call last)",
      "Cell \u001b[1;32mIn[37], line 1\u001b[0m\n\u001b[1;32m----> 1\u001b[0m bronze_sword \u001b[39m=\u001b[39m Item(\u001b[39m\"\u001b[39;49m\u001b[39mBronze Sword\u001b[39;49m\u001b[39m\"\u001b[39;49m, \u001b[39m\"\u001b[39;49m\u001b[39mA regular old bronze sword\u001b[39;49m\u001b[39m\"\u001b[39;49m)\n",
      "\u001b[1;31mTypeError\u001b[0m: Can't instantiate abstract class Item with abstract methods __repr__, __str__"
     ]
    }
   ],
   "source": [
    "bronze_sword = Item(\"Bronze Sword\", \"A regular old bronze sword\")\n"
   ]
  }
 ],
 "metadata": {
  "kernelspec": {
   "display_name": "python3.10",
   "language": "python",
   "name": "python3"
  },
  "language_info": {
   "codemirror_mode": {
    "name": "ipython",
    "version": 3
   },
   "file_extension": ".py",
   "mimetype": "text/x-python",
   "name": "python",
   "nbconvert_exporter": "python",
   "pygments_lexer": "ipython3",
   "version": "3.10.12"
  },
  "orig_nbformat": 4
 },
 "nbformat": 4,
 "nbformat_minor": 2
}
