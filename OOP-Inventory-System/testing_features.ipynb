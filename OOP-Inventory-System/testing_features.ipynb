{
 "cells": [
  {
   "cell_type": "markdown",
   "metadata": {},
   "source": [
    "## **Object Oriented Programming Concepts**\n",
    "Objective: Utilizing OOP concepts, create an Inventory class to manage all of the varying items and weapons a video game character may have"
   ]
  },
  {
   "cell_type": "code",
   "execution_count": 50,
   "metadata": {},
   "outputs": [
    {
     "ename": "TypeError",
     "evalue": "Can't instantiate abstract class Item with abstract methods __repr__, __str__, examine",
     "output_type": "error",
     "traceback": [
      "\u001b[1;31m---------------------------------------------------------------------------\u001b[0m",
      "\u001b[1;31mTypeError\u001b[0m                                 Traceback (most recent call last)",
      "Cell \u001b[1;32mIn[50], line 7\u001b[0m\n\u001b[0;32m      3\u001b[0m WEIGHT \u001b[39m=\u001b[39m \u001b[39m100\u001b[39m\n\u001b[0;32m      4\u001b[0m W_TYPE \u001b[39m=\u001b[39m WeaponType\u001b[39m.\u001b[39mSWORD\n\u001b[1;32m----> 7\u001b[0m an_item \u001b[39m=\u001b[39m Item(NAME, DESC, WEIGHT)\n",
      "\u001b[1;31mTypeError\u001b[0m: Can't instantiate abstract class Item with abstract methods __repr__, __str__, examine"
     ]
    }
   ],
   "source": [
    "\n"
   ]
  },
  {
   "cell_type": "code",
   "execution_count": null,
   "metadata": {},
   "outputs": [],
   "source": []
  }
 ],
 "metadata": {
  "kernelspec": {
   "display_name": "python3.10",
   "language": "python",
   "name": "python3"
  },
  "language_info": {
   "codemirror_mode": {
    "name": "ipython",
    "version": 3
   },
   "file_extension": ".py",
   "mimetype": "text/x-python",
   "name": "python",
   "nbconvert_exporter": "python",
   "pygments_lexer": "ipython3",
   "version": "3.10.12"
  },
  "orig_nbformat": 4
 },
 "nbformat": 4,
 "nbformat_minor": 2
}
