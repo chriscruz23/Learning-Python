{
 "cells": [
  {
   "cell_type": "markdown",
   "metadata": {},
   "source": [
    "## **Object Oriented Programming Concepts**\n",
    "Objective: Utilizing OOP concepts, create an Inventory class to manage all of the varying items and weapons a video game character may have"
   ]
  },
  {
   "cell_type": "code",
   "execution_count": 2,
   "metadata": {},
   "outputs": [],
   "source": [
    "\n",
    "from weapon import Weapon, WeaponType"
   ]
  },
  {
   "cell_type": "code",
   "execution_count": 4,
   "metadata": {},
   "outputs": [],
   "source": [
    "NAME = \"Mithril Longsword\"\n",
    "DESC = \"A sword made from mithril ore. A very capable weapon!\"\n",
    "WEIGHT = 100\n",
    "W_TYPE = WeaponType.SWORD\n",
    "\n",
    "\n",
    "Weapon(NAME, DESC, WEIGHT, W_TYPE)\n",
    "Weapon.name = \"New Name\"\n"
   ]
  },
  {
   "cell_type": "code",
   "execution_count": null,
   "metadata": {},
   "outputs": [],
   "source": []
  }
 ],
 "metadata": {
  "kernelspec": {
   "display_name": "python3.10",
   "language": "python",
   "name": "python3"
  },
  "language_info": {
   "codemirror_mode": {
    "name": "ipython",
    "version": 3
   },
   "file_extension": ".py",
   "mimetype": "text/x-python",
   "name": "python",
   "nbconvert_exporter": "python",
   "pygments_lexer": "ipython3",
   "version": "3.10.12"
  },
  "orig_nbformat": 4
 },
 "nbformat": 4,
 "nbformat_minor": 2
}
